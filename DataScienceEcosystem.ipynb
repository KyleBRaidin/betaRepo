{
 "cells": [
  {
   "cell_type": "markdown",
   "id": "ba733446-9dfe-45ee-969b-9866d710f597",
   "metadata": {
    "tags": []
   },
   "source": [
    "# Data Science Tools and Ecosystem"
   ]
  },
  {
   "cell_type": "markdown",
   "id": "c55c10ad-5f02-45f2-81c5-8b7689a33df5",
   "metadata": {},
   "source": [
    "In this notebook, Data Science Tools and Ecosystem are summarized."
   ]
  },
  {
   "cell_type": "markdown",
   "id": "8fbb213b-d978-4675-80a3-5f0bab7e7f1a",
   "metadata": {},
   "source": [
    "__Objectives:__\n",
    "* Name the Tools, Libraries, and Languages of DS\n",
    "* Practice Markdown Formatting\n",
    "* Create and Rename Files\n",
    "* Modify Cells"
   ]
  },
  {
   "cell_type": "markdown",
   "id": "c2bd53b1-269e-4ba6-8f88-40de597891bc",
   "metadata": {},
   "source": [
    "Some of the popular languages that Data Scientists use are:\n",
    "1. Python\n",
    "2. R\n",
    "3. SQL"
   ]
  },
  {
   "cell_type": "markdown",
   "id": "aa314f3f-9ae9-44d5-950a-23206da410cc",
   "metadata": {},
   "source": [
    "Some of the commonly used libraries used by Data Scientists include:\n",
    "1. NumPy\n",
    "2. Pandas\n",
    "3. Matplotlib\n",
    "4. Scikit-learn\n",
    "5. PyTorch\n",
    "6. TensorFlow\n",
    "7. Regex"
   ]
  },
  {
   "cell_type": "markdown",
   "id": "bb2040c1-93da-4fff-a245-4c40d07f1bcf",
   "metadata": {},
   "source": [
    "| Data Science Tools |\n",
    "|--------------------|\n",
    "|Jupyter Notebooks|\n",
    "|JupyterLab|\n",
    "|RStudio|"
   ]
  },
  {
   "cell_type": "markdown",
   "id": "0c2b6a99-a206-445d-8c9f-56623a359e9b",
   "metadata": {
    "tags": []
   },
   "source": [
    "### Below are a few examples of evaluating arithmetic expressions in Python"
   ]
  },
  {
   "cell_type": "code",
   "execution_count": 1,
   "id": "b67b7165-70e0-4631-84d7-ac9882d0bfde",
   "metadata": {
    "tags": []
   },
   "outputs": [
    {
     "data": {
      "text/plain": [
       "17"
      ]
     },
     "execution_count": 1,
     "metadata": {},
     "output_type": "execute_result"
    }
   ],
   "source": [
    "# This a simple arithmetic expression to mutiply then add integers\n",
    "\n",
    "(3*4)+5"
   ]
  },
  {
   "cell_type": "code",
   "execution_count": 2,
   "id": "30718bea-75d4-4f05-b44d-114b4faeff00",
   "metadata": {
    "tags": []
   },
   "outputs": [
    {
     "data": {
      "text/plain": [
       "3.3333333333333335"
      ]
     },
     "execution_count": 2,
     "metadata": {},
     "output_type": "execute_result"
    }
   ],
   "source": [
    "# This will convert 200 minutes to hours by diving by 60\n",
    "\n",
    "200/60"
   ]
  },
  {
   "cell_type": "markdown",
   "id": "b92fa6c4-0639-4260-b074-cd5a9d07bc9a",
   "metadata": {},
   "source": [
    "## Author\n",
    "Kyle Randall"
   ]
  },
  {
   "cell_type": "code",
   "execution_count": null,
   "id": "d582a469-dd50-4a15-9ec4-2139ed325f6c",
   "metadata": {},
   "outputs": [],
   "source": []
  }
 ],
 "metadata": {
  "kernelspec": {
   "display_name": "Python",
   "language": "python",
   "name": "conda-env-python-py"
  },
  "language_info": {
   "codemirror_mode": {
    "name": "ipython",
    "version": 3
   },
   "file_extension": ".py",
   "mimetype": "text/x-python",
   "name": "python",
   "nbconvert_exporter": "python",
   "pygments_lexer": "ipython3",
   "version": "3.7.12"
  }
 },
 "nbformat": 4,
 "nbformat_minor": 5
}
